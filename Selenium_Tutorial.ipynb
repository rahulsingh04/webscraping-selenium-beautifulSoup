{
 "cells": [
  {
   "cell_type": "markdown",
   "id": "435c848a",
   "metadata": {},
   "source": [
    "### JioCineVoteMaster"
   ]
  },
  {
   "cell_type": "code",
   "execution_count": 1,
   "id": "07d1bc25",
   "metadata": {},
   "outputs": [],
   "source": [
    "from selenium import webdriver\n",
    "from selenium.webdriver.edge.service import Service\n",
    "from selenium.webdriver.common.by import By\n",
    "from selenium.webdriver.common.keys import Keys  # Corrected import: 'keys' to 'Keys'\n",
    "import time\n",
    "\n",
    "service = Service(executable_path=\"msedgedriver.exe\")\n",
    "driver = webdriver.Edge(service=service)\n",
    "driver.get(\"https://www.jiocinema.com/\")"
   ]
  },
  {
   "cell_type": "code",
   "execution_count": 2,
   "id": "f4485e4e",
   "metadata": {},
   "outputs": [],
   "source": [
    "time.sleep(5)\n",
    "input_element2 = driver.find_element(By.ID, \"searchInputBox\")\n",
    "input_element2.send_keys(\"Bigg Boss live\"+ Keys.ENTER)\n"
   ]
  },
  {
   "cell_type": "code",
   "execution_count": 3,
   "id": "46c1c986",
   "metadata": {},
   "outputs": [],
   "source": [
    "time.sleep(5)\n",
    "input_element3 = driver.find_element(By.CLASS_NAME, 'mui-style-dqy2kp-gradient')\n",
    "input_element3.click()"
   ]
  },
  {
   "cell_type": "code",
   "execution_count": null,
   "id": "cf7346e7",
   "metadata": {},
   "outputs": [],
   "source": []
  },
  {
   "cell_type": "code",
   "execution_count": 4,
   "id": "23a30c8c",
   "metadata": {},
   "outputs": [],
   "source": [
    "time.sleep(35)\n",
    "driver.execute_script(\"window.scrollTo(0, 900)\") #scroll down\n"
   ]
  },
  {
   "cell_type": "code",
   "execution_count": null,
   "id": "c2eaf116",
   "metadata": {
    "collapsed": true
   },
   "outputs": [],
   "source": []
  }
 ],
 "metadata": {
  "kernelspec": {
   "display_name": "Python 3 (ipykernel)",
   "language": "python",
   "name": "python3"
  },
  "language_info": {
   "codemirror_mode": {
    "name": "ipython",
    "version": 3
   },
   "file_extension": ".py",
   "mimetype": "text/x-python",
   "name": "python",
   "nbconvert_exporter": "python",
   "pygments_lexer": "ipython3",
   "version": "3.9.12"
  }
 },
 "nbformat": 4,
 "nbformat_minor": 5
}

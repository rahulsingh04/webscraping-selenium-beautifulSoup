{
 "cells": [
  {
   "cell_type": "code",
   "execution_count": null,
   "id": "fa431ea8",
   "metadata": {},
   "outputs": [],
   "source": [
    "from selenium import webdriver\n",
    "from selenium.webdriver.edge.service import Service\n",
    "from selenium.webdriver.common.by import By\n",
    "from selenium.webdriver.common.keys import Keys\n",
    "import time"
   ]
  },
  {
   "cell_type": "code",
   "execution_count": null,
   "id": "968adcbb",
   "metadata": {},
   "outputs": [],
   "source": [
    "time.sleep(14)"
   ]
  },
  {
   "cell_type": "code",
   "execution_count": null,
   "id": "e7e15819",
   "metadata": {},
   "outputs": [],
   "source": [
    "service = Service(executable_path=\"msedgedriver.exe\")\n",
    "driver = webdriver.Edge(service=service)\n",
    "driver.get(\"https://www.google.com/\")"
   ]
  },
  {
   "cell_type": "code",
   "execution_count": null,
   "id": "aae35721",
   "metadata": {},
   "outputs": [],
   "source": [
    "input_element = driver.find_element(By.CLASS_NAME, \"gLFyf\")\n",
    "input_element.send_keys(\"todays news\"+Keys.ENTER)\n",
    "time.sleep(10)\n",
    "driver.quit()"
   ]
  },
  {
   "cell_type": "code",
   "execution_count": null,
   "id": "484f565b",
   "metadata": {},
   "outputs": [],
   "source": []
  }
 ],
 "metadata": {
  "kernelspec": {
   "display_name": "Python 3 (ipykernel)",
   "language": "python",
   "name": "python3"
  },
  "language_info": {
   "codemirror_mode": {
    "name": "ipython",
    "version": 3
   },
   "file_extension": ".py",
   "mimetype": "text/x-python",
   "name": "python",
   "nbconvert_exporter": "python",
   "pygments_lexer": "ipython3",
   "version": "3.9.12"
  }
 },
 "nbformat": 4,
 "nbformat_minor": 5
}
